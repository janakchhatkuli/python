{
 "cells": [
  {
   "cell_type": "code",
   "execution_count": null,
   "metadata": {
    "colab": {
     "base_uri": "https://localhost:8080/"
    },
    "id": "hSoeLrrrsIL4",
    "outputId": "970393e0-4af7-458b-9592-f81e51768cd8"
   },
   "outputs": [
    {
     "name": "stdout",
     "output_type": "stream",
     "text": [
      "this is fun\n"
     ]
    }
   ],
   "source": [
    "\n",
    "\n",
    "# print this is fun  \n",
    "print(\"this is fun\")\n"
   ]
  },
  {
   "cell_type": "markdown",
   "metadata": {},
   "source": [
    "world\n"
   ]
  },
  {
   "cell_type": "markdown",
   "metadata": {},
   "source": [
    "hello\n"
   ]
  },
  {
   "cell_type": "code",
   "execution_count": null,
   "metadata": {
    "colab": {
     "base_uri": "https://localhost:8080/"
    },
    "id": "cdDr4ppfwcHj",
    "outputId": "96862c09-bb6e-4588-eb4f-a8495882fb32"
   },
   "outputs": [
    {
     "name": "stdout",
     "output_type": "stream",
     "text": [
      "MR.collab\n"
     ]
    },
    {
     "data": {
      "text/plain": [
       "int"
      ]
     },
     "execution_count": 13,
     "metadata": {},
     "output_type": "execute_result"
    }
   ],
   "source": [
    "#single qoute can be also ussed #case sensitive\n",
    "name = (\"MR.collab\")\n",
    "age = 44\n",
    "print(name)\n",
    "type(name)\n",
    "type(age)\n"
   ]
  },
  {
   "cell_type": "code",
   "execution_count": null,
   "metadata": {
    "id": "JZDE_iy1GY1D"
   },
   "outputs": [],
   "source": []
  },
  {
   "cell_type": "code",
   "execution_count": null,
   "metadata": {
    "colab": {
     "base_uri": "https://localhost:8080/"
    },
    "id": "y-P94SC37aHB",
    "outputId": "33897e8c-4873-43f3-b255-cd6c2f3bcc74"
   },
   "outputs": [
    {
     "name": "stdout",
     "output_type": "stream",
     "text": [
      "Darth Vader\n",
      "19\n"
     ]
    }
   ],
   "source": [
    "name=str(\"Darth Vader\")\n",
    "print(name)\n",
    "age=19\n",
    "print(age)"
   ]
  },
  {
   "cell_type": "code",
   "execution_count": null,
   "metadata": {
    "colab": {
     "base_uri": "https://localhost:8080/"
    },
    "id": "DmhMm1FfGcJ7",
    "outputId": "04517dc5-dedc-4417-8f9c-80ecdb33d88b"
   },
   "outputs": [
    {
     "name": "stdout",
     "output_type": "stream",
     "text": [
      "3.14\n",
      "True\n"
     ]
    }
   ],
   "source": [
    "pi = 3.14\n",
    "print(pi)\n",
    "type(pi)\n",
    "bool_example = True\n",
    "print(bool_example)"
   ]
  },
  {
   "cell_type": "code",
   "execution_count": null,
   "metadata": {
    "colab": {
     "base_uri": "https://localhost:8080/"
    },
    "id": "kIwrQrroG-aq",
    "outputId": "cddced9a-a150-4c93-8c18-604a9971a049"
   },
   "outputs": [
    {
     "name": "stdout",
     "output_type": "stream",
     "text": [
      "False\n"
     ]
    },
    {
     "data": {
      "text/plain": [
       "bool"
      ]
     },
     "execution_count": 5,
     "metadata": {},
     "output_type": "execute_result"
    }
   ],
   "source": [
    "bool_example = bool(0)\n",
    "print(bool_example)\n",
    "type(bool_example)"
   ]
  },
  {
   "cell_type": "code",
   "execution_count": null,
   "metadata": {
    "colab": {
     "base_uri": "https://localhost:8080/"
    },
    "id": "z1cl0LY8Mj7z",
    "outputId": "7d38c1a7-3b26-4767-c1f9-e395f85a6298"
   },
   "outputs": [
    {
     "name": "stdout",
     "output_type": "stream",
     "text": [
      "False\n",
      "42.01\n"
     ]
    }
   ],
   "source": [
    "icannotdoit = False\n",
    "print(icannotdoit)\n",
    "the_ans = 42.01\n",
    "print(the_ans)\n"
   ]
  },
  {
   "cell_type": "code",
   "execution_count": null,
   "metadata": {
    "colab": {
     "base_uri": "https://localhost:8080/"
    },
    "id": "mpD8O4A6NFyo",
    "outputId": "ad84d3e3-9881-4fd6-f88c-cbab5c8657c9"
   },
   "outputs": [
    {
     "name": "stdout",
     "output_type": "stream",
     "text": [
      "dartvader\n",
      "mr skywalker\n"
     ]
    }
   ],
   "source": [
    "name = \"dartvader\"\n",
    "print(name)\n",
    "name = str(\"mr skywalker\")\n",
    "print(name)"
   ]
  },
  {
   "cell_type": "code",
   "execution_count": null,
   "metadata": {
    "colab": {
     "base_uri": "https://localhost:8080/"
    },
    "id": "QZSk-ZeHNVo2",
    "outputId": "0b15cefb-0197-4a98-db7b-9ef7dd3c2622"
   },
   "outputs": [
    {
     "data": {
      "text/plain": [
       "str"
      ]
     },
     "execution_count": 10,
     "metadata": {},
     "output_type": "execute_result"
    }
   ],
   "source": [
    "age = \"100\"\n",
    "type(age)"
   ]
  },
  {
   "cell_type": "code",
   "execution_count": null,
   "metadata": {
    "colab": {
     "base_uri": "https://localhost:8080/"
    },
    "id": "99WJZNR1PImA",
    "outputId": "553f2024-9c7b-49b3-9ec2-7050bc37f15a"
   },
   "outputs": [
    {
     "data": {
      "text/plain": [
       "int"
      ]
     },
     "execution_count": 11,
     "metadata": {},
     "output_type": "execute_result"
    }
   ],
   "source": [
    "age = int(\"100\")\n",
    "type(age)"
   ]
  },
  {
   "cell_type": "code",
   "execution_count": null,
   "metadata": {
    "colab": {
     "base_uri": "https://localhost:8080/"
    },
    "id": "ggzm0LU8PpYI",
    "outputId": "eb0821fc-31a4-4f6b-dd2c-5a1d481b9cf3"
   },
   "outputs": [
    {
     "name": "stdout",
     "output_type": "stream",
     "text": [
      "4\n"
     ]
    }
   ],
   "source": [
    "print(int(4.9))"
   ]
  },
  {
   "cell_type": "code",
   "execution_count": null,
   "metadata": {
    "colab": {
     "base_uri": "https://localhost:8080/"
    },
    "id": "RcS195qzPvcw",
    "outputId": "f02595b8-f166-4701-a23f-df61d6aee205"
   },
   "outputs": [
    {
     "name": "stdout",
     "output_type": "stream",
     "text": [
      "1\n"
     ]
    }
   ],
   "source": [
    "print(int(1.12343))"
   ]
  },
  {
   "cell_type": "code",
   "execution_count": null,
   "metadata": {
    "colab": {
     "base_uri": "https://localhost:8080/"
    },
    "id": "_RlluPDwP8x_",
    "outputId": "8269a44e-cf1f-4dd2-bb9b-57ef35d3bd49"
   },
   "outputs": [
    {
     "name": "stdout",
     "output_type": "stream",
     "text": [
      "1.09\n",
      "1.75\n"
     ]
    }
   ],
   "source": [
    "height =str\n",
    "height = \"1.09\"\n",
    "print(height)\n",
    "height = float(height)\n",
    "print(height+0.66)"
   ]
  },
  {
   "cell_type": "code",
   "execution_count": null,
   "metadata": {
    "colab": {
     "base_uri": "https://localhost:8080/"
    },
    "id": "pokYDKJ9QmYr",
    "outputId": "5f262367-073b-4a73-9782-e783940190df"
   },
   "outputs": [
    {
     "name": "stdout",
     "output_type": "stream",
     "text": [
      "85\n"
     ]
    }
   ],
   "source": [
    "usd = 100\n",
    "rate = 0.85\n",
    "eur = usd*rate\n",
    "eur = int(eur)\n",
    "print(eur)"
   ]
  },
  {
   "cell_type": "code",
   "execution_count": null,
   "metadata": {
    "colab": {
     "base_uri": "https://localhost:8080/"
    },
    "id": "RhuFr1CJWIkD",
    "outputId": "45e83e3a-e5b8-4a14-ae3e-1655a181a573"
   },
   "outputs": [
    {
     "name": "stdout",
     "output_type": "stream",
     "text": [
      "2061.16\n"
     ]
    }
   ],
   "source": [
    "age = 44.4\n",
    "print((age+1)**2)"
   ]
  },
  {
   "cell_type": "code",
   "execution_count": null,
   "metadata": {
    "colab": {
     "base_uri": "https://localhost:8080/"
    },
    "id": "JwHNxtCWXc0M",
    "outputId": "74c9bd58-77cf-4f81-f0d5-42bfd413d153"
   },
   "outputs": [
    {
     "name": "stdout",
     "output_type": "stream",
     "text": [
      "1.3\n"
     ]
    }
   ],
   "source": [
    "ashoka = 1.70\n",
    "yoda = 0.66\n",
    "r2d2 = 1.09\n",
    "c3po = 1.75\n",
    "avg=((ashoka+yoda+r2d2+c3po)/4)\n",
    "print(avg)"
   ]
  },
  {
   "cell_type": "code",
   "execution_count": null,
   "metadata": {
    "colab": {
     "base_uri": "https://localhost:8080/"
    },
    "id": "yFhHD0gfYP6y",
    "outputId": "5cfd00b0-94c5-4a8f-dc62-e918dc785d00"
   },
   "outputs": [
    {
     "name": "stdout",
     "output_type": "stream",
     "text": [
      "your name is ÿoda\n"
     ]
    }
   ],
   "source": [
    "name = \"ÿoda\"\n",
    "print(\"your name is \"+name)"
   ]
  },
  {
   "cell_type": "code",
   "execution_count": null,
   "metadata": {
    "colab": {
     "base_uri": "https://localhost:8080/"
    },
    "id": "jUfsAoy4Yfn2",
    "outputId": "f520784f-5701-4989-8f38-01da6a67b8ec"
   },
   "outputs": [
    {
     "name": "stdout",
     "output_type": "stream",
     "text": [
      "your nameheight and age is ÿoda0.66900\n"
     ]
    }
   ],
   "source": [
    "height =0.66\n",
    "age = 900\n",
    "print(\"your nameheight and age is \"+name+str(height)+str(age))"
   ]
  },
  {
   "cell_type": "code",
   "execution_count": null,
   "metadata": {
    "colab": {
     "base_uri": "https://localhost:8080/"
    },
    "id": "akN6HJqPZcrz",
    "outputId": "e6542f38-384a-45e5-a68b-fd557ee456ac"
   },
   "outputs": [
    {
     "name": "stdout",
     "output_type": "stream",
     "text": [
      "jack and rose were on the titanic in 1992\n"
     ]
    }
   ],
   "source": [
    "name1= \"jack\"\n",
    "name2 = \"rose\"\n",
    "year =1992\n",
    "print(name1+\" and \"+name2+\" were on the titanic in \"+str(year))"
   ]
  },
  {
   "cell_type": "code",
   "execution_count": null,
   "metadata": {
    "colab": {
     "base_uri": "https://localhost:8080/"
    },
    "id": "UP10o540aWAq",
    "outputId": "5714d041-6e88-4dc5-ba60-823a1fd6844a"
   },
   "outputs": [
    {
     "name": "stdout",
     "output_type": "stream",
     "text": [
      "100.0\n"
     ]
    }
   ],
   "source": [
    "principal = 1000\n",
    "rate = 5\n",
    "time= 2\n",
    "print((principal*rate*time)/100)"
   ]
  },
  {
   "cell_type": "code",
   "execution_count": null,
   "metadata": {
    "colab": {
     "base_uri": "https://localhost:8080/"
    },
    "id": "Akuy7BxPc5mJ",
    "outputId": "e3c7f395-76a1-463f-8238-4310005ad701"
   },
   "outputs": [
    {
     "name": "stdout",
     "output_type": "stream",
     "text": [
      "3\n",
      "<class 'int'>\n",
      "2\n"
     ]
    }
   ],
   "source": [
    "a,b,c = 1,2,3\n",
    "\n",
    "#minimun_value = max(a,b,c)\n",
    "print(max(a,b,c)) #for finding min or max value\n",
    "print(type(c))\n",
    "a=-1.5\n",
    "print(round(abs(a))) #for rounding and making the value positive"
   ]
  },
  {
   "cell_type": "code",
   "execution_count": null,
   "metadata": {
    "colab": {
     "base_uri": "https://localhost:8080/"
    },
    "id": "OXMuU8VMxdpH",
    "outputId": "0b53bd89-76d1-4366-872a-187bef50abe3"
   },
   "outputs": [
    {
     "name": "stdout",
     "output_type": "stream",
     "text": [
      "the average height 1.0\n",
      "the macimum height 1.7\n",
      "the minimum height 0.66\n"
     ]
    }
   ],
   "source": [
    "a,b,c = 1.7, 0.66 ,1.09\n",
    "print(\"the average height \"+ str(round((a+b+c))/3))\n",
    "print(\"the macimum height \"+ str(max(a,b,c)))\n",
    "print(\"the minimum height \"+ str(min(a,b,c)))"
   ]
  },
  {
   "cell_type": "code",
   "execution_count": null,
   "metadata": {
    "colab": {
     "base_uri": "https://localhost:8080/"
    },
    "id": "h-C3ViLzzQvo",
    "outputId": "883be371-7d0e-4c1e-bdb1-3f69a5fe92d7"
   },
   "outputs": [
    {
     "name": "stdout",
     "output_type": "stream",
     "text": [
      "what is your namejanak\n",
      "your name is janak\n",
      "what is your height15\n",
      "your height is 15\n"
     ]
    }
   ],
   "source": [
    "name = (input(\"what is your name\")) # this is always string\n",
    "#using int tomake it integer\n",
    "print(\"your name is \"+name)\n",
    "height = int(input(\"what is your height\"))\n",
    "print(\"your height is \"+height)"
   ]
  },
  {
   "cell_type": "code",
   "execution_count": null,
   "metadata": {
    "colab": {
     "base_uri": "https://localhost:8080/"
    },
    "id": "sUDJZX280ekS",
    "outputId": "700c8d92-ef98-409c-f677-e4ccc706110d"
   },
   "outputs": [
    {
     "name": "stdout",
     "output_type": "stream",
     "text": [
      "what is your namejanak\n",
      "your name is janak\n"
     ]
    }
   ],
   "source": [
    "def your_name_function(): #function definition\n",
    "    name = input(\"what is your name\")\n",
    "    print(\"your name is \"+name)\n",
    "your_name_function() #function call"
   ]
  },
  {
   "cell_type": "code",
   "execution_count": null,
   "metadata": {
    "colab": {
     "base_uri": "https://localhost:8080/"
    },
    "id": "-ikS4t5308jm",
    "outputId": "d34c51e1-b6b8-4474-df76-e27718a4d4fe"
   },
   "outputs": [
    {
     "name": "stdout",
     "output_type": "stream",
     "text": [
      "how old is ray 19\n",
      "ray's age is 19\n"
     ]
    }
   ],
   "source": [
    "def age_of_ray():\n",
    "  age = input(\"how old is ray \")\n",
    "  print(\"ray's age is \"+age)\n",
    "age_of_ray()"
   ]
  },
  {
   "cell_type": "code",
   "execution_count": null,
   "metadata": {
    "colab": {
     "base_uri": "https://localhost:8080/"
    },
    "id": "YoS8Po4_149W",
    "outputId": "f75b6acd-7f0e-4ade-861d-d8f597cffbd2"
   },
   "outputs": [
    {
     "name": "stdout",
     "output_type": "stream",
     "text": [
      "what is your namejanak\n",
      "what is janak's age19\n",
      "janak's age in next year is 20\n"
     ]
    }
   ],
   "source": [
    "name = input(\"what is your name\")\n",
    "age = int(input(\"what is \"+name+\"'s age\"))\n",
    "\n",
    "def age_in_next_year(name,age):\n",
    "  print(name+\"'s age in next year is \"+str(age+1))\n",
    "age_in_next_year(name,age)"
   ]
  },
  {
   "cell_type": "code",
   "execution_count": null,
   "metadata": {
    "colab": {
     "base_uri": "https://localhost:8080/"
    },
    "id": "kxR8Uwct3DxN",
    "outputId": "e8376fd5-88e9-4a62-d9b0-bc9ab07116eb"
   },
   "outputs": [
    {
     "name": "stdout",
     "output_type": "stream",
     "text": [
      "who was in the titanicjack\n",
      "what year is now1920\n",
      "jack were in titanic which  sunk in 8years ago\n",
      "janak were in titanic which  sunk in -1692years ago\n"
     ]
    }
   ],
   "source": [
    "name = input(\"who was in the titanic\")\n",
    "year = int(input(\"what year is now\"))\n",
    "\n",
    "def sunk_time(name,year):\n",
    "  print(name+\" were in titanic which  sunk in \"+str(year-1912)+\"years ago\")\n",
    "sunk_time(name,year)\n",
    "sunk_time(year=220,name=\"janak\")"
   ]
  },
  {
   "cell_type": "code",
   "execution_count": null,
   "metadata": {
    "colab": {
     "base_uri": "https://localhost:8080/"
    },
    "id": "7LPGQvAjHAHL",
    "outputId": "7b129636-dcdb-4178-a779-300612204d82"
   },
   "outputs": [
    {
     "name": "stdout",
     "output_type": "stream",
     "text": [
      "my age is 34\n",
      "my age is 19\n"
     ]
    }
   ],
   "source": [
    "def my_age(age=\"19\"):\n",
    "  print(\"my age is \"+age)\n",
    "\n",
    "my_age(\"34\")\n",
    "my_age()"
   ]
  },
  {
   "cell_type": "code",
   "execution_count": null,
   "metadata": {
    "colab": {
     "base_uri": "https://localhost:8080/"
    },
    "id": "tQKS2CY7ZTak",
    "outputId": "ef559ecc-817b-41f1-9245-62133e24df25"
   },
   "outputs": [
    {
     "data": {
      "text/plain": [
       "42.77777777777778"
      ]
     },
     "execution_count": 26,
     "metadata": {},
     "output_type": "execute_result"
    }
   ],
   "source": [
    "def convert_f_to_c(f_temp):\n",
    "  c_temp = (f_temp-32)*5/9\n",
    "  return c_temp\n",
    "convert_f_to_c(109)"
   ]
  },
  {
   "cell_type": "code",
   "execution_count": null,
   "metadata": {
    "colab": {
     "base_uri": "https://localhost:8080/"
    },
    "id": "oendvpXTUNAR",
    "outputId": "6f80ec8d-73dc-4321-a7bc-e7b79709898d"
   },
   "outputs": [
    {
     "data": {
      "text/plain": [
       "212.0"
      ]
     },
     "execution_count": 3,
     "metadata": {},
     "output_type": "execute_result"
    }
   ],
   "source": [
    "def c_to_f(c_temp):\n",
    "  f_temp = (c_temp*9/5)+32\n",
    "  return f_temp\n",
    "c_to_f(100)"
   ]
  },
  {
   "cell_type": "markdown",
   "metadata": {
    "id": "ZjXZY5GoYe6k"
   },
   "source": [
    "level 4 final exercise\n"
   ]
  },
  {
   "cell_type": "code",
   "execution_count": null,
   "metadata": {
    "colab": {
     "base_uri": "https://localhost:8080/"
    },
    "id": "f8pHucUgU2NV",
    "outputId": "33c71cce-1fee-46a8-be4a-17a3d5e249f2"
   },
   "outputs": [
    {
     "name": "stdout",
     "output_type": "stream",
     "text": [
      "enter first number : 1 \n",
      "enter second number : 2\n",
      "enter the opertaor + - * / :+\n",
      "the sum is  3\n"
     ]
    }
   ],
   "source": [
    "def add(a,b):\n",
    "  s=a+b\n",
    "  return s\n",
    "\n",
    "def sub(a,b):\n",
    "  s=a-b\n",
    "  return s\n",
    "\n",
    "def multiply(a,b):\n",
    "  m=a*b\n",
    "  return m\n",
    "\n",
    "def div(a,b):\n",
    "  d=a/b\n",
    "  return d\n",
    "\n",
    "a=int(input(\"enter first number : \"))\n",
    "b=int(input(\"enter second number : \"))\n",
    "o=input(\"enter the opertaor + - * / :\")\n",
    "\n",
    "if o==\"+\":\n",
    "  print(\"the sum is \",add(a,b))\n",
    "elif o==\"-\":\n",
    "  print(\"the difference is \",sub(a,b))\n",
    "elif o==\"*\":\n",
    "  print(\"the product is \",multiply(a,b))\n",
    "elif o==\"/\":\n",
    "        print(\"the quotient is \",div(a,b))\n",
    "else :\n",
    "  print(\"invalid operator\")"
   ]
  },
  {
   "cell_type": "markdown",
   "metadata": {
    "id": "-UKAujXQk0Ni"
   },
   "source": [
    "level 5\n"
   ]
  },
  {
   "cell_type": "code",
   "execution_count": null,
   "metadata": {
    "id": "KkID6n5Sk1v5"
   },
   "outputs": [],
   "source": [
    "#create our list_of_years_experience\n",
    "list_of_years_experience =[20,30]\n",
    "\n",
    "#check to see what type of data is list_of_years_experience\n",
    "print(type(list_of_years_experinece))\n"
   ]
  },
  {
   "cell_type": "code",
   "execution_count": null,
   "metadata": {
    "colab": {
     "base_uri": "https://localhost:8080/",
     "height": 182
    },
    "id": "6WpjvGdhvrTT",
    "outputId": "bb3cbe18-0d1e-45aa-c294-6dc5fda4be02"
   },
   "outputs": [
    {
     "ename": "TypeError",
     "evalue": "sum() missing 1 required positional argument: 'b'",
     "output_type": "error",
     "traceback": [
      "\u001b[0;31m---------------------------------------------------------------------------\u001b[0m",
      "\u001b[0;31mTypeError\u001b[0m                                 Traceback (most recent call last)",
      "\u001b[0;32m<ipython-input-19-2a26d3e9cb77>\u001b[0m in \u001b[0;36m<cell line: 2>\u001b[0;34m()\u001b[0m\n\u001b[1;32m      1\u001b[0m \u001b[0mheight\u001b[0m \u001b[0;34m=\u001b[0m \u001b[0;34m[\u001b[0m\u001b[0;36m1.7\u001b[0m\u001b[0;34m,\u001b[0m\u001b[0;36m0.99\u001b[0m\u001b[0;34m,\u001b[0m\u001b[0;36m1.09\u001b[0m\u001b[0;34m]\u001b[0m\u001b[0;34m\u001b[0m\u001b[0;34m\u001b[0m\u001b[0m\n\u001b[0;32m----> 2\u001b[0;31m \u001b[0mx\u001b[0m\u001b[0;34m=\u001b[0m \u001b[0msum\u001b[0m\u001b[0;34m(\u001b[0m\u001b[0mheight\u001b[0m\u001b[0;34m)\u001b[0m\u001b[0;34m\u001b[0m\u001b[0;34m\u001b[0m\u001b[0m\n\u001b[0m\u001b[1;32m      3\u001b[0m \u001b[0mprint\u001b[0m\u001b[0;34m(\u001b[0m\u001b[0mx\u001b[0m\u001b[0;34m)\u001b[0m\u001b[0;34m\u001b[0m\u001b[0;34m\u001b[0m\u001b[0m\n",
      "\u001b[0;31mTypeError\u001b[0m: sum() missing 1 required positional argument: 'b'"
     ]
    }
   ],
   "source": [
    "height = [1.7,0.99,1.09]\n",
    "x= sum(height)\n",
    "print(x)"
   ]
  },
  {
   "cell_type": "code",
   "execution_count": null,
   "metadata": {
    "colab": {
     "background_save": true
    },
    "id": "ZBuM5iJdy1AJ",
    "outputId": "761d19ad-f771-4eab-ab70-74d52fa095aa"
   },
   "outputs": [
    {
     "name": "stdout",
     "output_type": "stream",
     "text": [
      "milk\n",
      "eggs\n",
      "bananas\n",
      "apples\n",
      "4\n"
     ]
    }
   ],
   "source": [
    "shopping_list = [\"milk\",\"eggs\",\"bread\",\"bananas\"]\n",
    "shopping_list.append(\"apples\")#to add in lsit\n",
    "shopping_list.remove(\"bread\")#to remove\n",
    "def show_list(shopping_list):\n",
    "  print(*shopping_list,sep='\\n')#to display in each line\n",
    "show_list(shopping_list)\n",
    "def total_items(shopping_list):\n",
    "  print(len(shopping_list))#to find length of the list\n",
    "total_items(shopping_list)\n"
   ]
  }
 ],
 "metadata": {
  "colab": {
   "provenance": []
  },
  "kernelspec": {
   "display_name": "Python 3",
   "name": "python3"
  },
  "language_info": {
   "name": "python"
  }
 },
 "nbformat": 4,
 "nbformat_minor": 0
}
