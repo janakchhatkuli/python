{
  "nbformat": 4,
  "nbformat_minor": 0,
  "metadata": {
    "colab": {
      "provenance": []
    },
    "kernelspec": {
      "name": "python3",
      "display_name": "Python 3"
    },
    "language_info": {
      "name": "python"
    }
  },
  "cells": [
    {
      "cell_type": "markdown",
      "source": [
        "Classes and Instances"
      ],
      "metadata": {
        "id": "yxKiKN56EGhw"
      }
    },
    {
      "cell_type": "code",
      "execution_count": 3,
      "metadata": {
        "colab": {
          "base_uri": "https://localhost:8080/"
        },
        "id": "Jy284JkFDG7B",
        "outputId": "9bdcb8ae-7890-41fb-932f-4f091a603283"
      },
      "outputs": [
        {
          "output_type": "stream",
          "name": "stdout",
          "text": [
            "hello world\n",
            "husky\n"
          ]
        }
      ],
      "source": [
        "class dog():\n",
        "  #pass # its says dont do anything\n",
        "  def __init__(self, name): #constructor\n",
        "    print(\"hello world\")\n",
        "    print (name)\n",
        "\n",
        "\n",
        "dog1 = dog(\"husky\")"
      ]
    },
    {
      "cell_type": "code",
      "source": [
        "class janak():\n",
        "  def __init__(self,name,age):\n",
        "    print(\"my name is \",name)\n",
        "    print(f\"i am {age} years old \")\n",
        "\n",
        "person = janak(\"janak chhatkuli\",19)"
      ],
      "metadata": {
        "colab": {
          "base_uri": "https://localhost:8080/"
        },
        "id": "Ojd8-eGKIepq",
        "outputId": "493a77f8-0837-49f5-cb85-659e83afe49c"
      },
      "execution_count": 5,
      "outputs": [
        {
          "output_type": "stream",
          "name": "stdout",
          "text": [
            "my name is  janak chhatkuli\n",
            "i am 19 years old \n"
          ]
        }
      ]
    },
    {
      "cell_type": "markdown",
      "source": [
        "defining methods"
      ],
      "metadata": {
        "id": "XP-v1NU3KYwi"
      }
    },
    {
      "cell_type": "code",
      "source": [
        "class dog():\n",
        "  #pass # its says dont do anything\n",
        "  no_of_legs =4\n",
        "  def __init__(self, name): #constructor\n",
        "    print(\"hello world\")\n",
        "    print (name)\n",
        "    self.dogs_name = name\n",
        "\n",
        "  def bark(self):\n",
        "    print(self.dogs_name+\",says woof!\")\n",
        "\n",
        "  def walk(self, location):\n",
        "    print(self.dogs_name,\"is walking towards\",location)\n",
        "    #self.location = location\n",
        "\n",
        "\n",
        "dog1 = dog(\"husky\")\n",
        "dog1.bark()\n",
        "dog1.walk(\"park\")"
      ],
      "metadata": {
        "colab": {
          "base_uri": "https://localhost:8080/"
        },
        "id": "WDm-L3RXKbj5",
        "outputId": "cb4dc5d6-b32e-4004-84b2-eff43f85ccbb"
      },
      "execution_count": 12,
      "outputs": [
        {
          "output_type": "stream",
          "name": "stdout",
          "text": [
            "hello world\n",
            "husky\n",
            "husky,says woof!\n",
            "husky is walking towards park\n"
          ]
        }
      ]
    },
    {
      "cell_type": "markdown",
      "source": [
        "self"
      ],
      "metadata": {
        "id": "ZzhLGuGEOWcL"
      }
    },
    {
      "cell_type": "code",
      "source": [
        "#self need to be in every methods inside a class\n",
        "#it is use to access data and instances inside the class"
      ],
      "metadata": {
        "id": "UajD7besOX1S"
      },
      "execution_count": null,
      "outputs": []
    },
    {
      "cell_type": "code",
      "source": [
        "class car():\n",
        "  wheels = 4\n",
        "  def __init__(self,maker,model):\n",
        "    self.maker=maker\n",
        "    self.model=model\n",
        "\n",
        "\n",
        "  def display(self):\n",
        "\n",
        "    print(f\"model of the car is {self.model}and the maker is {self.maker}\")\n",
        "\n",
        "car1= car(\"hyundai\",\"i20\")\n",
        "car1.display()\n",
        "print(car1.wheels)"
      ],
      "metadata": {
        "colab": {
          "base_uri": "https://localhost:8080/"
        },
        "id": "gtGJdSQIRCtj",
        "outputId": "6c24a885-2498-4137-95bd-0ec8d8a3115c"
      },
      "execution_count": 17,
      "outputs": [
        {
          "output_type": "stream",
          "name": "stdout",
          "text": [
            "model of the car is i20and the maker is hyundai\n",
            "4\n"
          ]
        }
      ]
    },
    {
      "cell_type": "markdown",
      "source": [
        "inheritance"
      ],
      "metadata": {
        "id": "ZepE10i-SrhM"
      }
    },
    {
      "cell_type": "code",
      "source": [
        "class vehicle:\n",
        "  def start_engine(self):\n",
        "    print(\"engine started\")\n",
        "\n",
        "  def drive(self):\n",
        "    print(\"lets go \")\n",
        "\n",
        "class car(vehicle):\n",
        "    pass\n",
        "\n",
        "car1 = car()\n",
        "car1.start_engine()\n",
        "class truck(vehicle):\n",
        "  def __init__(self):\n",
        "    print(\"this is truck\")\n",
        "  def start_engine(self):#function overriding\n",
        "    print(\"truck in starting \")\n",
        "\n",
        "truck1 = truck()\n",
        "truck1.start_engine()\n",
        "car1.drive()"
      ],
      "metadata": {
        "colab": {
          "base_uri": "https://localhost:8080/"
        },
        "id": "oGJpVALLSuBK",
        "outputId": "d3148219-8f20-49f0-a0b3-39a804e7d06b"
      },
      "execution_count": 24,
      "outputs": [
        {
          "output_type": "stream",
          "name": "stdout",
          "text": [
            "engine started\n",
            "this is truck\n",
            "truck in starting \n",
            "lets go \n"
          ]
        }
      ]
    },
    {
      "cell_type": "markdown",
      "source": [
        "encapsulation"
      ],
      "metadata": {
        "id": "dvybNJm7UdDl"
      }
    },
    {
      "cell_type": "code",
      "source": [
        "class bankaccount():\n",
        "  def __init__(self,balance):\n",
        "    self.__balance = balance  #here __ make it private\n",
        "\n",
        "  def deposit(self , amount):\n",
        "    self.__balance += amount\n",
        "\n",
        "  def get_balance(self):\n",
        "    return self.__balance\n",
        "\n",
        "account = bankaccount(10000)\n",
        "account.deposit(570)\n",
        "print(account.get_balance())"
      ],
      "metadata": {
        "colab": {
          "base_uri": "https://localhost:8080/"
        },
        "id": "I8jJ3xY2Up6e",
        "outputId": "31fe47db-5cd5-442f-ec79-3a72978e8cdf"
      },
      "execution_count": 25,
      "outputs": [
        {
          "output_type": "stream",
          "name": "stdout",
          "text": [
            "10570\n"
          ]
        }
      ]
    },
    {
      "cell_type": "code",
      "source": [
        "account.__balance # it will say there in no variable like thAT BCOZ it is private"
      ],
      "metadata": {
        "colab": {
          "base_uri": "https://localhost:8080/",
          "height": 146
        },
        "collapsed": true,
        "id": "xK-2WF3EVgw-",
        "outputId": "654ead46-1ef9-497e-dc44-72df843ea554"
      },
      "execution_count": 26,
      "outputs": [
        {
          "output_type": "error",
          "ename": "AttributeError",
          "evalue": "'bankaccount' object has no attribute '__balance'",
          "traceback": [
            "\u001b[0;31m---------------------------------------------------------------------------\u001b[0m",
            "\u001b[0;31mAttributeError\u001b[0m                            Traceback (most recent call last)",
            "\u001b[0;32m<ipython-input-26-6f48cd55f797>\u001b[0m in \u001b[0;36m<cell line: 1>\u001b[0;34m()\u001b[0m\n\u001b[0;32m----> 1\u001b[0;31m \u001b[0maccount\u001b[0m\u001b[0;34m.\u001b[0m\u001b[0m__balance\u001b[0m\u001b[0;34m\u001b[0m\u001b[0;34m\u001b[0m\u001b[0m\n\u001b[0m",
            "\u001b[0;31mAttributeError\u001b[0m: 'bankaccount' object has no attribute '__balance'"
          ]
        }
      ]
    },
    {
      "cell_type": "code",
      "source": [
        "class computer():\n",
        "  __type = \"laptop\"\n",
        "  def __init__(self,brand,model):\n",
        "    self.__brand = brand\n",
        "    self.__model = model\n",
        "\n",
        "  def get_info(self):\n",
        "    return self.__brand+\" \"+self.__model\n",
        "\n",
        "c1= computer(\"acer\",\"nitro5\")\n",
        "print(c1.get_info())\n"
      ],
      "metadata": {
        "colab": {
          "base_uri": "https://localhost:8080/"
        },
        "id": "76BQcS8TWI3V",
        "outputId": "ebd6625e-cb65-4561-9197-e8c8aa35546c"
      },
      "execution_count": 30,
      "outputs": [
        {
          "output_type": "stream",
          "name": "stdout",
          "text": [
            "acer nitro5\n"
          ]
        }
      ]
    },
    {
      "cell_type": "markdown",
      "source": [
        "magic under methods"
      ],
      "metadata": {
        "id": "PLy03KgdXpr2"
      }
    },
    {
      "cell_type": "code",
      "source": [
        "class book():\n",
        "  def __init__(self,title,author):\n",
        "    self.title = title\n",
        "    self.author = author\n",
        "\n",
        "  def __str__(self): #__str__ makes the book string\n",
        "    return self.title + \"BY :\" +self.author\n",
        "\n",
        "book1= book(\"harry potter \",\"j.k rowling\")\n",
        "print(book1)"
      ],
      "metadata": {
        "colab": {
          "base_uri": "https://localhost:8080/"
        },
        "id": "Z4jhkmuiYAt8",
        "outputId": "2f158584-65c3-4312-f3c7-8d90a854383a"
      },
      "execution_count": 34,
      "outputs": [
        {
          "output_type": "stream",
          "name": "stdout",
          "text": [
            "harry potter BY :j.k rowling\n"
          ]
        }
      ]
    },
    {
      "cell_type": "code",
      "source": [
        "class number():\n",
        "  def __init__(self,value):\n",
        "    self.value=value\n",
        "\n",
        "  def __add__(self,new_num): #to add the object with int like constructor overloading\n",
        "    return self.value+new_num\n",
        "\n",
        "  def __eq__(self,new_num):\n",
        "    return self.value == new_num\n",
        "\n",
        "num= number(1000)\n",
        "num+10\n",
        "num == 1000"
      ],
      "metadata": {
        "colab": {
          "base_uri": "https://localhost:8080/"
        },
        "id": "hABolf3YZgnN",
        "outputId": "584e81e2-7cc0-4d4b-ed8f-575ce33c33aa"
      },
      "execution_count": 38,
      "outputs": [
        {
          "output_type": "execute_result",
          "data": {
            "text/plain": [
              "True"
            ]
          },
          "metadata": {},
          "execution_count": 38
        }
      ]
    },
    {
      "cell_type": "code",
      "source": [
        "a=10\n",
        "a==10"
      ],
      "metadata": {
        "colab": {
          "base_uri": "https://localhost:8080/"
        },
        "id": "vMDdL3V5a5il",
        "outputId": "d48c5871-dd10-4fed-85ad-0f473dbc0e10"
      },
      "execution_count": 39,
      "outputs": [
        {
          "output_type": "execute_result",
          "data": {
            "text/plain": [
              "True"
            ]
          },
          "metadata": {},
          "execution_count": 39
        }
      ]
    },
    {
      "cell_type": "markdown",
      "source": [
        "composition an aggregation"
      ],
      "metadata": {
        "id": "92pRvAtXqGcb"
      }
    },
    {
      "cell_type": "code",
      "source": [
        "class engine:\n",
        "  def start(self):\n",
        "    print(\"engine started\")\n",
        "\n",
        "class car:\n",
        "  def __init__(self):\n",
        "    self.engine = engine()# composition\n",
        "\n",
        "car1 = car()\n",
        "car1.engine.start()"
      ],
      "metadata": {
        "colab": {
          "base_uri": "https://localhost:8080/"
        },
        "id": "6G8K-O_CqK-3",
        "outputId": "d9848481-9ea1-420a-c660-f382a774b9fb"
      },
      "execution_count": 40,
      "outputs": [
        {
          "output_type": "stream",
          "name": "stdout",
          "text": [
            "engine started\n"
          ]
        }
      ]
    },
    {
      "cell_type": "markdown",
      "source": [
        "final exercise"
      ],
      "metadata": {
        "id": "Cz4mq9icqzkn"
      }
    },
    {
      "cell_type": "code",
      "source": [
        "#Step 1: Create BankAccount class\n",
        "class BankAccount():\n",
        "  def __init__(self,account_number,balance=0):\n",
        "    self.number = account_number\n",
        "    self.balance = balance\n",
        "  def deposit(self,amount):\n",
        "    self.balance +=amount\n",
        "    return self.balance\n",
        "\n",
        "  def withdrawl(self,amount):\n",
        "    if amount<=self.balance:\n",
        "      self.balance -=amount\n",
        "      return self.balance\n",
        "    else:\n",
        "      return \"Isufficient Funds\"\n",
        "\n",
        "  def balance_check(self):\n",
        "    return self.balance\n",
        "\n",
        "# Step 2: Create a dictionary to store accounts / Done For you\n",
        "accounts = {}\n",
        "\n",
        "# Step 3: User Interface\n",
        "while True:\n",
        "  print(\"1. Create Account\")\n",
        "  print(\"2. Deposit\")\n",
        "  print(\"3. Withdraw\")\n",
        "  print(\"4. Check Balance\")\n",
        "  print(\"5. Exit\")\n",
        "\n",
        "  choice = int(input(\"CHoose an option : \").strip())\n",
        "  match(choice):\n",
        "    case 1:\n",
        "      acc_num= input(\"Enter your new account number : \").strip()\n",
        "      initial_balance = float(input(\"Enter your initial balance : \").strip())\n",
        "\n",
        "      accounts[acc_num] = BankAccount(acc_num, initial_balance)\n",
        "\n",
        "      print(\"Account Created!\")\n",
        "\n",
        "    case 2:\n",
        "      acc_num= input(\"Enter your account number :\").strip()\n",
        "      if acc_num in accounts:\n",
        "       depo_amount= float(input(\"Enter amount to be deposited :\").strip())\n",
        "       nb = accounts[acc_num].deposit(depo_amount)\n",
        "       print(f\"New balance is: {nb} \")\n",
        "      else:\n",
        "        print(\"Couldnt fint your acc number\")\n",
        "\n",
        "    case 3:\n",
        "        acc_num= input(\"Enter your account number :\").strip()\n",
        "        if acc_num in accounts:\n",
        "         with_amount= float(input(\"Enter amount to be withdrawed :\").strip())\n",
        "         nb = accounts[acc_num].withdrawl(with_amount)\n",
        "         print(f\"New balance is: {nb} \")\n",
        "        else:\n",
        "         print(\"Couldnt fint your acc number\")\n",
        "\n",
        "    case 4:\n",
        "         acc_num= input(\"Enter your account number :\").strip()\n",
        "         if acc_num in accounts:\n",
        "           b = accounts[acc_num].balance_check()\n",
        "           print(f\"Yoour balance is: {b} \")\n",
        "         else:\n",
        "           print(\"Couldnt fint your acc number\")\n",
        "\n",
        "    case 5:\n",
        "        print(\"Thank You for using our service!!!\")\n",
        "        break\n",
        "\n"
      ],
      "metadata": {
        "id": "4d3LqNgyq1Yu"
      },
      "execution_count": null,
      "outputs": []
    }
  ]
}