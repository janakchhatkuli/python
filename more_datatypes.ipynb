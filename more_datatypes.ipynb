{
  "cells": [
    {
      "cell_type": "markdown",
      "metadata": {
        "id": "Xn8UkkZGVBsU"
      },
      "source": [
        "tuple"
      ]
    },
    {
      "cell_type": "code",
      "execution_count": null,
      "metadata": {
        "colab": {
          "base_uri": "https://localhost:8080/",
          "height": 182
        },
        "id": "cSpqcjTbNI0p",
        "outputId": "9afcf9ba-3d23-4cc1-ba08-28d6abef774c"
      },
      "outputs": [
        {
          "ename": "TypeError",
          "evalue": "'tuple' object does not support item assignment",
          "output_type": "error",
          "traceback": [
            "\u001b[0;31m---------------------------------------------------------------------------\u001b[0m",
            "\u001b[0;31mTypeError\u001b[0m                                 Traceback (most recent call last)",
            "\u001b[0;32m<ipython-input-1-c46c0fd0d3cd>\u001b[0m in \u001b[0;36m<cell line: 2>\u001b[0;34m()\u001b[0m\n\u001b[1;32m      1\u001b[0m \u001b[0mtuple1\u001b[0m\u001b[0;34m=\u001b[0m \u001b[0;34m(\u001b[0m\u001b[0;36m1\u001b[0m\u001b[0;34m,\u001b[0m\u001b[0;36m2\u001b[0m\u001b[0;34m,\u001b[0m\u001b[0;36m3\u001b[0m\u001b[0;34m,\u001b[0m\u001b[0;36m4\u001b[0m\u001b[0;34m)\u001b[0m\u001b[0;34m\u001b[0m\u001b[0;34m\u001b[0m\u001b[0m\n\u001b[0;32m----> 2\u001b[0;31m \u001b[0mtuple1\u001b[0m\u001b[0;34m[\u001b[0m\u001b[0;36m3\u001b[0m\u001b[0;34m]\u001b[0m\u001b[0;34m=\u001b[0m\u001b[0;36m10\u001b[0m\u001b[0;34m\u001b[0m\u001b[0;34m\u001b[0m\u001b[0m\n\u001b[0m\u001b[1;32m      3\u001b[0m \u001b[0mtuple1\u001b[0m\u001b[0;34m\u001b[0m\u001b[0;34m\u001b[0m\u001b[0m\n",
            "\u001b[0;31mTypeError\u001b[0m: 'tuple' object does not support item assignment"
          ]
        }
      ],
      "source": [
        "tuple1= (1,2,3,4) #smal bracket for tuples\n",
        "tuple1[3]=10 # tuple obj cannot change values inside it but value of list can be changed\n",
        "tuple1"
      ]
    },
    {
      "cell_type": "code",
      "execution_count": null,
      "metadata": {
        "colab": {
          "base_uri": "https://localhost:8080/"
        },
        "id": "pHSM3NC-V4JS",
        "outputId": "c7c4b170-2d55-443a-f8f5-288a64b66851"
      },
      "outputs": [
        {
          "name": "stdout",
          "output_type": "stream",
          "text": [
            "luka \n",
            "luka@gmail.com\n",
            "1234567\n",
            "1\n"
          ]
        }
      ],
      "source": [
        "user = (\"luka \", \"luka@gmail.com\", \"1234567\",1)#tuple can use different data types at single time\n",
        "user.count(\"luka\")\n",
        "for x in user:\n",
        "  print(x)\n",
        "\n",
        "\n"
      ]
    },
    {
      "cell_type": "code",
      "execution_count": null,
      "metadata": {
        "colab": {
          "base_uri": "https://localhost:8080/"
        },
        "id": "sVUIjpIuYRLT",
        "outputId": "09796206-e608-4c73-b2be-dfe85f054ceb"
      },
      "outputs": [
        {
          "data": {
            "text/plain": [
              "('yoda', 'han solo ', 'r2d2', 'c3po', 'luke')"
            ]
          },
          "execution_count": 7,
          "metadata": {},
          "output_type": "execute_result"
        }
      ],
      "source": [
        "starting_tuple = (\"yoda\",\"han solo \",\"r2d2\", \"c3po\")\n",
        "starting_tuple=list(starting_tuple) #changing to list form tuple to append\n",
        "starting_tuple.append(\"luke\")\n",
        "starting_tuple=tuple(starting_tuple)\n",
        "starting_tuple"
      ]
    },
    {
      "cell_type": "markdown",
      "metadata": {
        "id": "vKjGAgQCZx2K"
      },
      "source": [
        "dictionaries"
      ]
    },
    {
      "cell_type": "code",
      "execution_count": null,
      "metadata": {
        "colab": {
          "base_uri": "https://localhost:8080/"
        },
        "id": "GQGl1wXWaI5o",
        "outputId": "43f25928-0245-4e79-bda7-a34a41b5f0a1"
      },
      "outputs": [
        {
          "data": {
            "text/plain": [
              "1"
            ]
          },
          "execution_count": 10,
          "metadata": {},
          "output_type": "execute_result"
        }
      ],
      "source": [
        "basic_dictionaries= {\"0\":1, \"1\":2 , 2:3 } #curly braces for dictionaries\n",
        "#key : value key can be any type\n",
        "basic_dictionaries[\"0\"]\n"
      ]
    },
    {
      "cell_type": "code",
      "execution_count": null,
      "metadata": {
        "colab": {
          "base_uri": "https://localhost:8080/",
          "height": 36
        },
        "id": "qgWCrUIfgHPp",
        "outputId": "6f2c6084-f3c8-4acd-9cd3-48bdc25a5226"
      },
      "outputs": [
        {
          "data": {
            "application/vnd.google.colaboratory.intrinsic+json": {
              "type": "string"
            },
            "text/plain": [
              "'janak'"
            ]
          },
          "execution_count": 12,
          "metadata": {},
          "output_type": "execute_result"
        }
      ],
      "source": [
        "user = {\"name\":\"janak\" ,\"email\":\"janak@gmail.com\" , \"number\":9841996317}\n",
        "user[\"name\"]"
      ]
    },
    {
      "cell_type": "code",
      "execution_count": null,
      "metadata": {
        "colab": {
          "base_uri": "https://localhost:8080/"
        },
        "id": "2MY8aIELgjTk",
        "outputId": "30f14341-b7ef-472c-9a3c-c27c3e0967b8"
      },
      "outputs": [
        {
          "data": {
            "text/plain": [
              "{'st_name': 'thapachowk', 'city': 'ktm', 'state': 'bagmati'}"
            ]
          },
          "execution_count": 5,
          "metadata": {},
          "output_type": "execute_result"
        }
      ],
      "source": [
        "user = {\"name\":\"janak\" ,\"email\":\"janak@gmail.com\" , \"number\":9841996317,\"address\":{\"st_name\":\"thapachowk\",\"city\":\"ktm\",\"state\":\"bagmati\"}}\n",
        "user#dictionary in dictionary\n",
        "user[\"address\"]"
      ]
    },
    {
      "cell_type": "code",
      "execution_count": null,
      "metadata": {
        "colab": {
          "base_uri": "https://localhost:8080/"
        },
        "id": "Jq_evhGehnb1",
        "outputId": "c0f4093e-f4e2-4ab9-d3e4-f16ec11acc95"
      },
      "outputs": [
        {
          "data": {
            "text/plain": [
              "{'name': 'janak',\n",
              " 'email': 'janak@gmail.com',\n",
              " 'number': '9841',\n",
              " 'address': {'st_name': 'thapachowk', 'city': 'ktm', 'state': 'bagmati'},\n",
              " 'job_title': 'junior software engineer'}"
            ]
          },
          "execution_count": 16,
          "metadata": {},
          "output_type": "execute_result"
        }
      ],
      "source": [
        "user[\"job_title\"] = \"junior software engineer\"\n",
        "user\n",
        "user[\"number\"] = \"9841\"\n",
        "user"
      ]
    },
    {
      "cell_type": "code",
      "execution_count": null,
      "metadata": {
        "colab": {
          "base_uri": "https://localhost:8080/"
        },
        "id": "Ylx3cMpLh64A",
        "outputId": "6f5bd9a0-c6f9-4527-db45-ab26980a747a"
      },
      "outputs": [
        {
          "data": {
            "text/plain": [
              "dict_items([('name', 'janak'), ('email', 'janak@gmail.com'), ('number', '9841'), ('address', {'st_name': 'thapachowk', 'city': 'ktm', 'state': 'bagmati'}), ('job_title', 'junior software engineer')])"
            ]
          },
          "execution_count": 19,
          "metadata": {},
          "output_type": "execute_result"
        }
      ],
      "source": [
        "user.get(\"name\")\n",
        "user.items()#display items in dictionaries"
      ]
    },
    {
      "cell_type": "code",
      "execution_count": null,
      "metadata": {
        "colab": {
          "base_uri": "https://localhost:8080/"
        },
        "id": "Vn8N1HXtiVQC",
        "outputId": "73e104c2-1173-46f9-f2e7-902eb2605868"
      },
      "outputs": [
        {
          "data": {
            "text/plain": [
              "dict_values(['janak', 'janak@gmail.com', '9841', {'st_name': 'thapachowk', 'city': 'ktm', 'state': 'bagmati'}, 'junior software engineer'])"
            ]
          },
          "execution_count": 21,
          "metadata": {},
          "output_type": "execute_result"
        }
      ],
      "source": [
        "user.keys() #shows keys only\n",
        "user.values() #show values only"
      ]
    },
    {
      "cell_type": "code",
      "execution_count": null,
      "metadata": {
        "id": "bG1s15-sjP8y"
      },
      "outputs": [],
      "source": [
        "number = user.pop(\"number\")"
      ]
    },
    {
      "cell_type": "code",
      "execution_count": null,
      "metadata": {
        "colab": {
          "base_uri": "https://localhost:8080/"
        },
        "id": "_KpJQ8TRjWkZ",
        "outputId": "2a000339-6747-42aa-bbc4-638ab6db4127"
      },
      "outputs": [
        {
          "name": "stdout",
          "output_type": "stream",
          "text": [
            "name\n",
            "janak\n",
            "email\n",
            "janak@gmail.com\n",
            "number\n",
            "9841996317\n",
            "address\n",
            "{'st_name': 'thapachowk', 'city': 'ktm', 'state': 'bagmati'}\n"
          ]
        }
      ],
      "source": [
        "for b in user.keys():\n",
        "  print(b)\n",
        "  print(user[b])\n",
        "\n"
      ]
    },
    {
      "cell_type": "code",
      "execution_count": null,
      "metadata": {
        "colab": {
          "base_uri": "https://localhost:8080/"
        },
        "id": "6iDkwuWMUday",
        "outputId": "838e6a4a-c6c4-4bbe-9319-33753dd3d0e4"
      },
      "outputs": [
        {
          "name": "stdout",
          "output_type": "stream",
          "text": [
            "('name', 'janak')\n",
            "('email', 'janak@gmail.com')\n",
            "('number', 9841996317)\n",
            "('address', {'st_name': 'thapachowk', 'city': 'ktm', 'state': 'bagmati'})\n"
          ]
        }
      ],
      "source": [
        "for x in user.items():\n",
        "  print(x)\n"
      ]
    },
    {
      "cell_type": "code",
      "execution_count": null,
      "metadata": {
        "collapsed": true,
        "id": "wgFG9daQX-hA"
      },
      "outputs": [],
      "source": [
        "dir(user)"
      ]
    },
    {
      "cell_type": "code",
      "execution_count": 1,
      "metadata": {
        "id": "_nsiU7EPYWDN"
      },
      "outputs": [],
      "source": [
        "alle={\"luke\":\"rebel\",\"darth\":\"galactic\",\"obi\":\"jedi\"}\n",
        "\n"
      ]
    },
    {
      "cell_type": "markdown",
      "source": [
        "level 7 final exercise"
      ],
      "metadata": {
        "id": "MSQZpr7uphE1"
      }
    },
    {
      "cell_type": "code",
      "execution_count": 2,
      "metadata": {
        "id": "XO4QsabUcS7o",
        "colab": {
          "base_uri": "https://localhost:8080/"
        },
        "outputId": "d821d0bd-6904-4030-d51f-ccc8f2f6eb40"
      },
      "outputs": [
        {
          "output_type": "stream",
          "name": "stdout",
          "text": [
            "Menu:\n",
            "Soup  -  Appetizer : $ 5.0\n",
            "ice cream  -  desert : $ 5.0\n",
            "salad  -  complementary : $ 1.0\n",
            "steak  -  main : $ 20.0\n",
            "soda  -  drink : $ 2.0\n",
            "Dish type count : \n",
            "{'Appetizer': 1, 'desert': 1, 'complementary': 1, 'main': 1, 'drink': 1}\n",
            "weird dish  dish does not exist \n",
            "Menu:\n",
            "Soup  -  Appetizer : $ 200\n",
            "ice cream  -  desert : $ 5.0\n",
            "salad  -  complementary : $ 1.0\n",
            "steak  -  main : $ 20.0\n",
            "soda  -  drink : $ 2.0\n"
          ]
        }
      ],
      "source": [
        "# Step 1: Initial menu\n",
        "menu = {'Burger': ('Main', 10.5), 'Soup': ('Appetizer', 5.0),'ice cream':('desert',5.0),'salad':('complementary',1.0)}\n",
        "\n",
        "\n",
        "\n",
        "\n",
        "\n",
        "# Step 2: Add dishes\n",
        "menu.update({'steak':('main',20.0),'soda':('drink',2.0)})\n",
        "\n",
        "# Step 3: Remove dish\n",
        "menu.pop('Burger')\n",
        "\n",
        "# Step 4: Display menu function\n",
        "def display_menu(menu):\n",
        "  print(\"Menu:\")\n",
        "  for dish,info in menu.items():\n",
        "    print(dish,\" - \",info[0],\": $\",str(info[1]))\n",
        "\n",
        "\n",
        "\n",
        "# Step 5: Count dish types function\n",
        "def count_dish_types(menu):\n",
        "  print(\"Dish type count : \")\n",
        "  dish_per_category = {}\n",
        "  for dish,info in menu.items():\n",
        "    if info[0] in dish_per_category:\n",
        "      dish_per_category[info[0]] += 1\n",
        "    else:\n",
        "        dish_per_category[info[0]] = 1\n",
        "\n",
        "  return dish_per_category\n",
        "\n",
        "\n",
        "\n",
        "\n",
        "# Step 6: Update price function\n",
        "def update_price(menu,dish,price):\n",
        "\n",
        "  if dish in menu:\n",
        "    menu[dish]=menu[dish][0],price\n",
        "  else:\n",
        "    print(dish,\" dish does not exist \")\n",
        "\n",
        "# Step 7: Use all functions to manage menu\n",
        "display_menu(menu)\n",
        "print(count_dish_types(menu))\n",
        "update_price(menu,\"Soup\",200)\n",
        "\n",
        "update_price(menu,\"weird dish\",1000)\n",
        "display_menu(menu)\n"
      ]
    }
  ],
  "metadata": {
    "colab": {
      "provenance": []
    },
    "kernelspec": {
      "display_name": "Python 3",
      "name": "python3"
    },
    "language_info": {
      "name": "python"
    }
  },
  "nbformat": 4,
  "nbformat_minor": 0
}