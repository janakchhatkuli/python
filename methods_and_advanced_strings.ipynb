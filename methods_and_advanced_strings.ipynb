{
  "nbformat": 4,
  "nbformat_minor": 0,
  "metadata": {
    "colab": {
      "provenance": []
    },
    "kernelspec": {
      "name": "python3",
      "display_name": "Python 3"
    },
    "language_info": {
      "name": "python"
    }
  },
  "cells": [
    {
      "cell_type": "markdown",
      "source": [
        "method"
      ],
      "metadata": {
        "id": "8Ff8LcBksixW"
      }
    },
    {
      "cell_type": "code",
      "execution_count": null,
      "metadata": {
        "colab": {
          "base_uri": "https://localhost:8080/"
        },
        "id": "wHq2Li1xrsj5",
        "outputId": "66599712-5687-4984-8731-9faec0337925"
      },
      "outputs": [
        {
          "output_type": "stream",
          "name": "stdout",
          "text": [
            "REY\n",
            "rey\n",
            "1\n",
            "red\n"
          ]
        }
      ],
      "source": [
        "name = str(\"rey\")\n",
        "print(name.upper())\n",
        "print(name.lower())\n",
        "print(name.count(\"y\"))#count the no. of characters etc.\n",
        "print(name.replace(\"y\",\"d\"))\n",
        "#dir(name) to know what functions u can use to the variable"
      ]
    },
    {
      "cell_type": "code",
      "source": [
        "name = (\"C3P0\")\n",
        "print(name.replace(\"C3P0\",\"R2D2\"))"
      ],
      "metadata": {
        "colab": {
          "base_uri": "https://localhost:8080/"
        },
        "id": "7h2dzTEItoKm",
        "outputId": "7337426f-7c2b-4056-edb5-6d517e1cd540"
      },
      "execution_count": null,
      "outputs": [
        {
          "output_type": "stream",
          "name": "stdout",
          "text": [
            "R2D2\n"
          ]
        }
      ]
    },
    {
      "cell_type": "code",
      "source": [
        "name = \" chris\"\n",
        "print(name.upper())#it only changes the string temporarily\n",
        "print(name)\n",
        "name.isdigit()#check whether the string is digit or not\n",
        "name.isalpha()\n",
        "name.isspace()"
      ],
      "metadata": {
        "id": "x1zcC-4nuCZ8",
        "colab": {
          "base_uri": "https://localhost:8080/"
        },
        "outputId": "c671b23e-ad18-40ed-c929-7cd097ca8e01"
      },
      "execution_count": null,
      "outputs": [
        {
          "output_type": "stream",
          "name": "stdout",
          "text": [
            " CHRIS\n",
            " chris\n"
          ]
        },
        {
          "output_type": "execute_result",
          "data": {
            "text/plain": [
              "False"
            ]
          },
          "metadata": {},
          "execution_count": 8
        }
      ]
    },
    {
      "cell_type": "code",
      "source": [
        "jacks_name = \"Jack\"\n",
        "empty_glass_case = \" \"\n",
        "jacks_name.isalpha()\n",
        "empty_glass_case.isspace()"
      ],
      "metadata": {
        "colab": {
          "base_uri": "https://localhost:8080/"
        },
        "id": "UmUC9pTLGBAN",
        "outputId": "e527a074-7954-4d03-b464-919ddc9ea2e3"
      },
      "execution_count": null,
      "outputs": [
        {
          "output_type": "execute_result",
          "data": {
            "text/plain": [
              "True"
            ]
          },
          "metadata": {},
          "execution_count": 10
        }
      ]
    },
    {
      "cell_type": "code",
      "source": [
        "name = \"darth vader\"\n",
        "x= name.split(\" \")#it splits from the space\n",
        "print(x)\n",
        "type(name)\n",
        "type(x)\n",
        "y= \"bfajbfguej/fabfuefb/febaufiae\"\n",
        "z=y.split(\"/\",1)#just split upto the psoition given\n",
        "print(z)"
      ],
      "metadata": {
        "colab": {
          "base_uri": "https://localhost:8080/"
        },
        "id": "eLQjWfNSGf0t",
        "outputId": "c9bcc515-3b88-44a1-a2f0-fb80ec16cce7"
      },
      "execution_count": null,
      "outputs": [
        {
          "output_type": "stream",
          "name": "stdout",
          "text": [
            "['darth', 'vader']\n",
            "['bfajbfguej', 'fabfuefb/febaufiae']\n"
          ]
        }
      ]
    },
    {
      "cell_type": "code",
      "source": [
        "name = \"jbdfuasjfbasjek\\nfsjbgsog\\nfjsngiogn\\n\"\n",
        "x=name.splitlines()\n",
        "print(x)"
      ],
      "metadata": {
        "colab": {
          "base_uri": "https://localhost:8080/"
        },
        "id": "KuHJBJM8qaWe",
        "outputId": "05a48b5a-20a0-4e46-cfce-8cc413a1c2fe"
      },
      "execution_count": 4,
      "outputs": [
        {
          "output_type": "stream",
          "name": "stdout",
          "text": [
            "['jbdfuasjfbasjek', 'fsjbgsog', 'fjsngiogn']\n"
          ]
        }
      ]
    },
    {
      "cell_type": "code",
      "source": [
        "name = (\"janak\",\" chhatkuli\")\n",
        "type(name)\n",
        "x=\" thapathali\".join(name)#joins tuple with the given string\n",
        "print(x)"
      ],
      "metadata": {
        "colab": {
          "base_uri": "https://localhost:8080/"
        },
        "id": "nJdN_Lhlq3l-",
        "outputId": "fba1464b-e62b-4b35-8f37-9b2b93ddaadc"
      },
      "execution_count": 6,
      "outputs": [
        {
          "output_type": "stream",
          "name": "stdout",
          "text": [
            "janak thapathali chhatkuli\n"
          ]
        }
      ]
    },
    {
      "cell_type": "code",
      "source": [
        "name = \"  janak  \"\n",
        "x= name.strip(\"k\")\n",
        "print(x)\n",
        "x=name.strip(\" \")\n",
        "print(x)\n"
      ],
      "metadata": {
        "colab": {
          "base_uri": "https://localhost:8080/"
        },
        "id": "F-rpT_5Xr5cN",
        "outputId": "766e6c46-b048-4b46-f452-ee85127fa45b"
      },
      "execution_count": 8,
      "outputs": [
        {
          "output_type": "stream",
          "name": "stdout",
          "text": [
            "  janak  \n",
            "janak\n"
          ]
        }
      ]
    },
    {
      "cell_type": "code",
      "source": [
        "name = \"  janak  \"\n",
        "x= name.rstrip()#for lstrip() it strips the space from the left\n",
        "print(x)\n",
        "print(x+\"Chhatkuli\")"
      ],
      "metadata": {
        "colab": {
          "base_uri": "https://localhost:8080/"
        },
        "id": "FWs862KjsSPk",
        "outputId": "a7629734-877a-4142-ee9d-b904514cb215"
      },
      "execution_count": 10,
      "outputs": [
        {
          "output_type": "stream",
          "name": "stdout",
          "text": [
            "  janak\n",
            "  janakChhatkuli\n"
          ]
        }
      ]
    },
    {
      "cell_type": "code",
      "source": [
        "name = \"janak chhatkuli\"\n",
        "x=name.find(\"h\")#it finds the character you want to find\n",
        "print(x)\n",
        "x=name.find(\"a\",5,15)\n",
        "print(x)\n",
        "x=name.index(\"j\")\n",
        "print(x)\n",
        "#the difference between index and find is: when u dont find the chaarcter\n",
        "#find gives -1 and index gives error\n",
        "x=name.find(\"y\")\n",
        "print(x)\n",
        "#x=name.index(\"y\")\n",
        "#print(x)\n"
      ],
      "metadata": {
        "colab": {
          "base_uri": "https://localhost:8080/"
        },
        "collapsed": true,
        "id": "kutIu7oLstTp",
        "outputId": "bcbd6e33-b5fb-487d-a9c9-d9860b4bb2e9"
      },
      "execution_count": 6,
      "outputs": [
        {
          "output_type": "stream",
          "name": "stdout",
          "text": [
            "7\n",
            "9\n",
            "0\n",
            "-1\n"
          ]
        }
      ]
    },
    {
      "cell_type": "code",
      "source": [
        "name = \"janak chhatkuli\"\n",
        "x=name.replace(\"janak\",\"mahesh\")\n",
        "print(x)\n",
        "x.count(\"h\")\n",
        "print(x)\n",
        "x=name.startswith(\"j\")\n",
        "print(x)\n",
        "x=name.endswith(\"i\")\n",
        "print(x)"
      ],
      "metadata": {
        "colab": {
          "base_uri": "https://localhost:8080/"
        },
        "id": "jstiwxPPuH8-",
        "outputId": "8c816a9e-6cb5-461d-afb5-2d8337e01247"
      },
      "execution_count": 23,
      "outputs": [
        {
          "output_type": "stream",
          "name": "stdout",
          "text": [
            "mahesh chhatkuli\n",
            "mahesh chhatkuli\n",
            "True\n",
            "True\n"
          ]
        }
      ]
    },
    {
      "cell_type": "code",
      "source": [
        "name1 = \"princess leia\"\n",
        "x=name1.split(\" \")\n",
        "print(x)\n",
        "name2= \"baby yoda\"\n",
        "x=name2.lstrip(\"baby\")\n",
        "print(x)\n",
        "name3 = \t\"baby yoda\"\n",
        "x=name3.replace(\"baby\",\"master\")\n",
        "print(x)\n"
      ],
      "metadata": {
        "colab": {
          "base_uri": "https://localhost:8080/"
        },
        "id": "6g5GBiVUvIUN",
        "outputId": "045e6c9f-86a4-4b15-9e00-475dcfa82438"
      },
      "execution_count": 28,
      "outputs": [
        {
          "output_type": "stream",
          "name": "stdout",
          "text": [
            "['princess', 'leia']\n",
            " yoda\n",
            "master yoda\n"
          ]
        }
      ]
    },
    {
      "cell_type": "markdown",
      "source": [
        "lambda functions and map"
      ],
      "metadata": {
        "id": "vyL9sP9HwBRr"
      }
    },
    {
      "cell_type": "code",
      "source": [
        "list1 = [1,2,3,4,5]\n",
        "def sqaure(x):\n",
        "  return x**2\n",
        "\n",
        "new_list = []\n",
        "for i in range(len(list)):\n",
        "  new_list.append(sqaure(list[i]))\n",
        "new_list"
      ],
      "metadata": {
        "colab": {
          "base_uri": "https://localhost:8080/"
        },
        "id": "r6T2UHT0v_MC",
        "outputId": "22dbb08b-408b-4885-f157-aadc0db36acc"
      },
      "execution_count": 36,
      "outputs": [
        {
          "output_type": "execute_result",
          "data": {
            "text/plain": [
              "[1, 4, 9, 16, 25]"
            ]
          },
          "metadata": {},
          "execution_count": 36
        }
      ]
    },
    {
      "cell_type": "code",
      "source": [
        "list1 = [1,2,3,4,5]\n",
        "list(map(lambda x : x**2, list1))#lambda function aand map()makes function shorter\n",
        "\n"
      ],
      "metadata": {
        "colab": {
          "base_uri": "https://localhost:8080/"
        },
        "id": "gaQESdS9wrd5",
        "outputId": "96ab0616-32c9-4987-e535-c0515dfd9535"
      },
      "execution_count": 2,
      "outputs": [
        {
          "output_type": "execute_result",
          "data": {
            "text/plain": [
              "[1, 4, 9, 16, 25]"
            ]
          },
          "metadata": {},
          "execution_count": 2
        }
      ]
    },
    {
      "cell_type": "code",
      "source": [
        "second_list = [(1,2,3),(4,5,6),(7,8,9)]\n",
        "list(map(lambda x : sum(x), second_list))"
      ],
      "metadata": {
        "colab": {
          "base_uri": "https://localhost:8080/"
        },
        "id": "CFveRD3OxwPt",
        "outputId": "d4c5da79-d59e-4633-b45d-fa36c384ad76"
      },
      "execution_count": 3,
      "outputs": [
        {
          "output_type": "execute_result",
          "data": {
            "text/plain": [
              "[6, 15, 24]"
            ]
          },
          "metadata": {},
          "execution_count": 3
        }
      ]
    },
    {
      "cell_type": "markdown",
      "source": [
        "recursion"
      ],
      "metadata": {
        "id": "_r7iYqbwyVMZ"
      }
    },
    {
      "cell_type": "code",
      "source": [
        "#n! -> 10 ->10*9*8*......*1\n",
        "def factorial(n):\n",
        "  if n==0:\n",
        "    return 1\n",
        "  else:\n",
        "    return n*factorial(n-1)\n",
        "factorial(10)"
      ],
      "metadata": {
        "colab": {
          "base_uri": "https://localhost:8080/"
        },
        "id": "7-o5buCy0TgE",
        "outputId": "89cc6eda-ebf8-41ef-e30a-2bfa3282413c"
      },
      "execution_count": 4,
      "outputs": [
        {
          "output_type": "execute_result",
          "data": {
            "text/plain": [
              "3628800"
            ]
          },
          "metadata": {},
          "execution_count": 4
        }
      ]
    },
    {
      "cell_type": "markdown",
      "source": [
        "Final exercise"
      ],
      "metadata": {
        "id": "vthroM5G-hjb"
      }
    },
    {
      "cell_type": "code",
      "source": [
        "# Step 0: Sample chat logs\n",
        "chat_logs = [\n",
        "    \"My order is delayed\",\n",
        "    \"I want to return my order\",\n",
        "    \"The app is crashing frequently\",\n",
        "    \"Payment issues, please help\",\n",
        "    \"Need help with account recovery\",\n",
        "    \"Delivery was incomplete\",\n",
        "    \"Can't login to my account\",\n",
        "    \"Having trouble with checkout\"\n",
        "]\n",
        "categories = {\"Order\": 0, \"App\": 0, \"Payment\": 0, \"Account\": 0, \"Delivery\": 0}\n",
        "# Step 1: Function to categorize issues\n",
        "def categorize_issues(chat_logs):\n",
        "  for log in chat_logs:\n",
        "    log_lower = log.lower()\n",
        "    for category in categories.keys():\n",
        "      if category.lower() in log_lower:\n",
        "        categories[category] += 1\n",
        "\n",
        "\n",
        "\n",
        "\n",
        "# Step 2: Function to search by keyword\n",
        "def keyword_search(keyword,chat_logs):\n",
        "  result= []\n",
        "  for log in chat_logs:\n",
        "    log_lower = log.lower()\n",
        "    if keyword.lower() in log_lower:\n",
        "      result.append(log)\n",
        "      return result\n",
        "\n",
        "\n",
        "\n",
        "# Step 3: Display and search\n",
        "print(\"Issue Categories:\\n\")\n",
        "categorize_issues(chat_logs)\n",
        "for issue in categories:\n",
        "  print(issue,\":\",categories[issue],)\n",
        "\n",
        "\n",
        "keyword = input(\"\\nEnter the search keyword: \")\n",
        "print(\"\\nchat logs containing keyword: \\n\")\n",
        "for key in keyword_search(keyword, chat_logs):\n",
        " print(key)"
      ],
      "metadata": {
        "id": "0lDRdcPg-jc8"
      },
      "execution_count": null,
      "outputs": []
    }
  ]
}