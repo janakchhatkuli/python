{
  "nbformat": 4,
  "nbformat_minor": 0,
  "metadata": {
    "colab": {
      "provenance": []
    },
    "kernelspec": {
      "name": "python3",
      "display_name": "Python 3"
    },
    "language_info": {
      "name": "python"
    }
  },
  "cells": [
    {
      "cell_type": "markdown",
      "source": [
        "elif"
      ],
      "metadata": {
        "id": "98_OE5-eYpu3"
      }
    },
    {
      "cell_type": "code",
      "execution_count": null,
      "metadata": {
        "id": "YSqU2FKcXMw1",
        "colab": {
          "base_uri": "https://localhost:8080/"
        },
        "outputId": "28d17032-d22e-4cc5-a985-b6f7addbd057"
      },
      "outputs": [
        {
          "output_type": "stream",
          "name": "stdout",
          "text": [
            "HOw many character are in the army ? please enter 1 2 31\n",
            "the army of 1 is weaker tha 2 and 3\n",
            "the cost of the army is  10\n",
            "odd characters\n",
            "good or bad good\n",
            "your army has 1 charcter and is good\n"
          ]
        }
      ],
      "source": [
        "army_size = input(\"HOw many character are in the army ? please enter 1 2 3\")\n",
        "if army_size == \"1\":\n",
        "  print(\"the army of 1 is weaker tha 2 and 3\")\n",
        "elif army_size == \"2\":\n",
        "  print(\"the army 0f 2 is stronger tha 1 and wealer tha 3\")\n",
        "elif army_size == \"3\":\n",
        "  print(\"the army size is strongest \")\n",
        "#else :\n",
        "#print(\"invalid army size\")\n",
        "elif army_size !=\"1\" or \"2\" or \"3\":# or is lower case case sensitive #!= means not equals to\n",
        "  print(\"invalid army size\")\n",
        "army_size =int(army_size)\n",
        "print(\"the cost of the army is \",str(army_size*10))\n",
        "\n",
        "if army_size ==1 or army_size == 3:\n",
        "  print(\"odd characters\")\n",
        "else:\n",
        "  print(\"even characters\")\n",
        "\n",
        "quality = input(\"good or bad \")\n",
        "if quality == \"good\" and army_size == 1:\n",
        "  print(\"your army has 1 charcter and is good\")\n",
        "else:\n",
        "  print(\"your army is not size 1 and not good\")\n",
        "\n",
        "\n"
      ]
    },
    {
      "cell_type": "code",
      "source": [
        "team=input(\"write your team 1 2 or 3\")\n",
        "if team==\"1\":\n",
        "  print(\"you picked team 1with 1 character \")\n",
        "elif team==\"2\":\n",
        "  print(\"you picked team 2 with 2 characters\")\n",
        "elif team==\"3\":\n",
        "  print(\"you picked team 3 with 3 characters\")\n",
        "else:\n",
        "  print(\"invalid team\")\n",
        "\n",
        "if team == \"1\" or \"3\":\n",
        "  print(\"odd no. of characters\")\n",
        "else :\n",
        "  print(\"even no. of characters\")\n",
        "\n"
      ],
      "metadata": {
        "colab": {
          "base_uri": "https://localhost:8080/"
        },
        "id": "cP9Zl3NMdC3T",
        "outputId": "2b0e04a8-aa53-4823-818c-1ee67e51a9d8"
      },
      "execution_count": null,
      "outputs": [
        {
          "output_type": "stream",
          "name": "stdout",
          "text": [
            "write your team 1 2 or 31\n",
            "you picked team 1with 1 character \n",
            "odd no. of characters\n"
          ]
        }
      ]
    },
    {
      "cell_type": "markdown",
      "source": [
        "match and case logic"
      ],
      "metadata": {
        "id": "w4Z9iE67fPOV"
      }
    },
    {
      "cell_type": "code",
      "source": [
        "army_size = input(\"HOw many character are in the army ? please enter 1 2 3\")\n",
        "if army_size == \"1\":\n",
        "  print(\"the army of 1 is weaker tha 2 and 3\")\n",
        "elif army_size == \"2\":\n",
        "  print(\"the army 0f 2 is stronger tha 1 and wealer tha 3\")\n",
        "elif army_size == \"3\":\n",
        "  print(\"the army size is strongest \")\n",
        "#else :\n",
        "#print(\"invalid army size\")\n",
        "elif army_size !=\"1\" or \"2\" or \"3\":# or is lower case case sensitive #!= means not equals to\n",
        "  print(\"invalid army size\")\n",
        "army_size =int(army_size)\n",
        "print(\"the cost of the army is \",str(army_size*10))\n",
        "\n",
        "if army_size ==1 or army_size == 3:\n",
        "  print(\"odd characters\")\n",
        "else:\n",
        "  print(\"even characters\")\n",
        "\n",
        "quality = input(\"good or bad \")\n",
        "match quality :\n",
        "  case \"good\":\n",
        "    match army_size:\n",
        "      case 1:\n",
        "        print(\"your army has 1 charcter and is good\")\n",
        "      case 2:\n",
        "        print(\"your army has 2 characters and is good\")\n",
        "      case 3:\n",
        "        print(\"your army has 3 characters and is good\")\n",
        "\n",
        "  case \"bad\":\n",
        "    match army_size:\n",
        "      case 1:\n",
        "        print(\"your army has 1 charcter and is good\")\n",
        "      case 2:\n",
        "        print(\"your army has 2 characters and is good\")\n",
        "      case 3:\n",
        "        print(\"your army has 3 characters and is good\")"
      ],
      "metadata": {
        "colab": {
          "base_uri": "https://localhost:8080/"
        },
        "id": "NAZhuP0JfRx8",
        "outputId": "1b472329-b810-4bdb-fbf5-310aa07e4288"
      },
      "execution_count": null,
      "outputs": [
        {
          "output_type": "stream",
          "name": "stdout",
          "text": [
            "HOw many character are in the army ? please enter 1 2 31\n",
            "the army of 1 is weaker tha 2 and 3\n",
            "the cost of the army is  10\n",
            "odd characters\n",
            "good or bad good\n",
            "your army has 1 charcter and is good\n"
          ]
        }
      ]
    },
    {
      "cell_type": "code",
      "source": [
        "team = input(\t\"write your team 1 2 or 3 : \")\n",
        "match team:\n",
        "  case \"1\":\n",
        "    print(\"you selected team 1 \")\n",
        "  case \"2\":\n",
        "    print(\"you selected team 2\")\n",
        "  case \"3\":\n",
        "    print(\"you selected team 3\")\n",
        "  case _:#this is default case\n",
        "    print(\"invalid team\")"
      ],
      "metadata": {
        "colab": {
          "base_uri": "https://localhost:8080/"
        },
        "id": "yjZzjo5ZiJNU",
        "outputId": "62d99b23-4d99-4d9b-8590-e9c57ef0e447"
      },
      "execution_count": null,
      "outputs": [
        {
          "output_type": "stream",
          "name": "stdout",
          "text": [
            "write your team 1 2 or 3 : 2\n",
            "you selected team 2\n"
          ]
        }
      ]
    },
    {
      "cell_type": "markdown",
      "source": [
        "formatting"
      ],
      "metadata": {
        "id": "ylknUH-8iy1E"
      }
    },
    {
      "cell_type": "code",
      "source": [
        "name = input(\"what is your name ?\\n\")"
      ],
      "metadata": {
        "colab": {
          "base_uri": "https://localhost:8080/"
        },
        "id": "0jk3KW45iyQN",
        "outputId": "964e4ffe-def0-4af5-f748-c19a66c859ba"
      },
      "execution_count": null,
      "outputs": [
        {
          "name": "stdout",
          "output_type": "stream",
          "text": [
            "what is your name ?\n",
            "janak\n"
          ]
        }
      ]
    },
    {
      "cell_type": "code",
      "source": [
        "ticket = input(\"what is class of ticket do you want  ?select 1 or 3 \\n\")\n",
        "print(f\"you selected class {ticket} ticket\")#instead of using + and \"\" in every point we use format f and use {}\n",
        "if ticket == \"1\":\n",
        "  price = 800\n",
        "else :\n",
        "  price =500\n",
        "\n",
        "print(type(price))\n",
        "print(f\"the price of your ticket is {price:.2f} dollars\")#herre price:.2f is for two decimal points"
      ],
      "metadata": {
        "colab": {
          "base_uri": "https://localhost:8080/"
        },
        "id": "E4iMPpfCjK97",
        "outputId": "faadfb79-6edf-4846-8f9d-55a676e9a7c0"
      },
      "execution_count": null,
      "outputs": [
        {
          "output_type": "stream",
          "name": "stdout",
          "text": [
            "what is class of ticket do you want  ?select 1 or 3 \n",
            "3\n",
            "you selected class 3 ticket\n",
            "<class 'int'>\n",
            "the price of your ticket is 500.00 dollars\n"
          ]
        }
      ]
    },
    {
      "cell_type": "code",
      "source": [
        "ticket1 = int(input(\"how many 1st class ticket do you want ?\"))\n",
        "ticket2 = int(input(\"how many 2nd class ticket do you want ?\"))\n",
        "ticket3 = int(input(\"how many 3rd class ticket do you want ?\"))\n",
        "price = ticket1*870 + ticket2 * 100.42 + ticket3* 7\n",
        "print(  f\"the total price is {price:.2f} dollars\")"
      ],
      "metadata": {
        "id": "j_p06Rl9k_ht",
        "colab": {
          "base_uri": "https://localhost:8080/"
        },
        "outputId": "369df95b-8390-406c-de4e-b955a8cdbb79"
      },
      "execution_count": 1,
      "outputs": [
        {
          "output_type": "stream",
          "name": "stdout",
          "text": [
            "how many 1st class ticket do you want ?1\n",
            "how many 2nd class ticket do you want ?1\n",
            "how many 3rd class ticket do you want ?1\n",
            "the total price is 977.42 dollars\n"
          ]
        }
      ]
    },
    {
      "cell_type": "markdown",
      "source": [
        "slicing"
      ],
      "metadata": {
        "id": "ypygPI-wsE0V"
      }
    },
    {
      "cell_type": "code",
      "source": [
        "full_name = \"Janak Chhatkuli\"\n",
        "first_name = full_name[0:5] #this means we take first 5 characters\n",
        "last_name = full_name[6:] #this means we take 6th to last characters\n",
        "print(first_name)\n",
        "print(last_name)\n"
      ],
      "metadata": {
        "colab": {
          "base_uri": "https://localhost:8080/"
        },
        "id": "rhVjLdXMsGtN",
        "outputId": "5d674d8e-c5c9-466c-d44c-b990225ef615"
      },
      "execution_count": 6,
      "outputs": [
        {
          "output_type": "stream",
          "name": "stdout",
          "text": [
            "Janak\n",
            "Chhatkuli\n"
          ]
        }
      ]
    },
    {
      "cell_type": "code",
      "source": [
        "obj = \"Titanic\" #printing only c three slicing methodologies\n",
        "print(obj[-1])\n",
        "print(obj[6])\n",
        "print(obj[6:])"
      ],
      "metadata": {
        "colab": {
          "base_uri": "https://localhost:8080/"
        },
        "id": "lFHs_upgwAlx",
        "outputId": "096bbe8c-92f5-4a13-d36d-c3635f93c9f8"
      },
      "execution_count": 11,
      "outputs": [
        {
          "output_type": "stream",
          "name": "stdout",
          "text": [
            "c\n",
            "c\n",
            "c\n"
          ]
        }
      ]
    },
    {
      "cell_type": "markdown",
      "source": [
        "for loop"
      ],
      "metadata": {
        "id": "E1P4R3oYxNOV"
      }
    },
    {
      "cell_type": "code",
      "source": [
        "jedi = [\"darth vader\" , \"rey\", \"yoda\", \"leia\", \"mr . skywalker\", \"Ashoka\"]\n",
        "for x in jedi: #here x is a varis\n",
        "  print(x)\n",
        "for x in \"janak\":\n",
        "  print(x)\n",
        "\n",
        "for x in jedi:\n",
        "  print(x)\n",
        "  if x == \"yoda\":\n",
        "    break\n"
      ],
      "metadata": {
        "colab": {
          "base_uri": "https://localhost:8080/"
        },
        "id": "4BxlfHDsxOVs",
        "outputId": "8fc07c2e-4f8c-45d4-a72e-5bf99e91ad47"
      },
      "execution_count": 15,
      "outputs": [
        {
          "output_type": "stream",
          "name": "stdout",
          "text": [
            "darth vader\n",
            "rey\n",
            "yoda\n",
            "leia\n",
            "mr . skywalker\n",
            "Ashoka\n",
            "j\n",
            "a\n",
            "n\n",
            "a\n",
            "k\n",
            "darth vader\n",
            "rey\n",
            "yoda\n"
          ]
        }
      ]
    },
    {
      "cell_type": "code",
      "source": [
        "for x in range(1,9):\n",
        "  print(x)"
      ],
      "metadata": {
        "colab": {
          "base_uri": "https://localhost:8080/"
        },
        "id": "MWbzYa7xz-wc",
        "outputId": "ebe4b198-0036-4cc5-ea0a-f485d1169fb3"
      },
      "execution_count": 16,
      "outputs": [
        {
          "output_type": "stream",
          "name": "stdout",
          "text": [
            "1\n",
            "2\n",
            "3\n",
            "4\n",
            "5\n",
            "6\n",
            "7\n",
            "8\n"
          ]
        }
      ]
    },
    {
      "cell_type": "code",
      "source": [
        "kids = [\"leia\",\"luke\"]\n",
        "for x in kids:\n",
        "  print(x+\",I am your father\")"
      ],
      "metadata": {
        "colab": {
          "base_uri": "https://localhost:8080/"
        },
        "id": "Rk5pDe7bA5y8",
        "outputId": "fbac84ba-0f55-45d5-e179-54d732ecc5b0"
      },
      "execution_count": 18,
      "outputs": [
        {
          "output_type": "stream",
          "name": "stdout",
          "text": [
            "leia,I am your father\n",
            "luke,I am your father\n"
          ]
        }
      ]
    },
    {
      "cell_type": "markdown",
      "source": [
        "while loop"
      ],
      "metadata": {
        "id": "_zlXMzxbBqjt"
      }
    },
    {
      "cell_type": "code",
      "source": [
        "age = 50\n",
        "while age <=100:\n",
        "  print(\"you cannot use lightsaber until y0u are 100, you are \"+ str(age))\n",
        "  age=age +1\n",
        "  if age >90:\n",
        "    print(\"I am  getting old\")"
      ],
      "metadata": {
        "colab": {
          "base_uri": "https://localhost:8080/"
        },
        "id": "uUrutU9EBrvt",
        "outputId": "28ebf7b4-c2d4-4f40-fd93-650e2c8ea123"
      },
      "execution_count": 21,
      "outputs": [
        {
          "output_type": "stream",
          "name": "stdout",
          "text": [
            "you cannot use lightsaber until y0u are 100, you are 50\n",
            "you cannot use lightsaber until y0u are 100, you are 51\n",
            "you cannot use lightsaber until y0u are 100, you are 52\n",
            "you cannot use lightsaber until y0u are 100, you are 53\n",
            "you cannot use lightsaber until y0u are 100, you are 54\n",
            "you cannot use lightsaber until y0u are 100, you are 55\n",
            "you cannot use lightsaber until y0u are 100, you are 56\n",
            "you cannot use lightsaber until y0u are 100, you are 57\n",
            "you cannot use lightsaber until y0u are 100, you are 58\n",
            "you cannot use lightsaber until y0u are 100, you are 59\n",
            "you cannot use lightsaber until y0u are 100, you are 60\n",
            "you cannot use lightsaber until y0u are 100, you are 61\n",
            "you cannot use lightsaber until y0u are 100, you are 62\n",
            "you cannot use lightsaber until y0u are 100, you are 63\n",
            "you cannot use lightsaber until y0u are 100, you are 64\n",
            "you cannot use lightsaber until y0u are 100, you are 65\n",
            "you cannot use lightsaber until y0u are 100, you are 66\n",
            "you cannot use lightsaber until y0u are 100, you are 67\n",
            "you cannot use lightsaber until y0u are 100, you are 68\n",
            "you cannot use lightsaber until y0u are 100, you are 69\n",
            "you cannot use lightsaber until y0u are 100, you are 70\n",
            "you cannot use lightsaber until y0u are 100, you are 71\n",
            "you cannot use lightsaber until y0u are 100, you are 72\n",
            "you cannot use lightsaber until y0u are 100, you are 73\n",
            "you cannot use lightsaber until y0u are 100, you are 74\n",
            "you cannot use lightsaber until y0u are 100, you are 75\n",
            "you cannot use lightsaber until y0u are 100, you are 76\n",
            "you cannot use lightsaber until y0u are 100, you are 77\n",
            "you cannot use lightsaber until y0u are 100, you are 78\n",
            "you cannot use lightsaber until y0u are 100, you are 79\n",
            "you cannot use lightsaber until y0u are 100, you are 80\n",
            "you cannot use lightsaber until y0u are 100, you are 81\n",
            "you cannot use lightsaber until y0u are 100, you are 82\n",
            "you cannot use lightsaber until y0u are 100, you are 83\n",
            "you cannot use lightsaber until y0u are 100, you are 84\n",
            "you cannot use lightsaber until y0u are 100, you are 85\n",
            "you cannot use lightsaber until y0u are 100, you are 86\n",
            "you cannot use lightsaber until y0u are 100, you are 87\n",
            "you cannot use lightsaber until y0u are 100, you are 88\n",
            "you cannot use lightsaber until y0u are 100, you are 89\n",
            "you cannot use lightsaber until y0u are 100, you are 90\n",
            "I am  getting old\n",
            "you cannot use lightsaber until y0u are 100, you are 91\n",
            "I am  getting old\n",
            "you cannot use lightsaber until y0u are 100, you are 92\n",
            "I am  getting old\n",
            "you cannot use lightsaber until y0u are 100, you are 93\n",
            "I am  getting old\n",
            "you cannot use lightsaber until y0u are 100, you are 94\n",
            "I am  getting old\n",
            "you cannot use lightsaber until y0u are 100, you are 95\n",
            "I am  getting old\n",
            "you cannot use lightsaber until y0u are 100, you are 96\n",
            "I am  getting old\n",
            "you cannot use lightsaber until y0u are 100, you are 97\n",
            "I am  getting old\n",
            "you cannot use lightsaber until y0u are 100, you are 98\n",
            "I am  getting old\n",
            "you cannot use lightsaber until y0u are 100, you are 99\n",
            "I am  getting old\n",
            "you cannot use lightsaber until y0u are 100, you are 100\n",
            "I am  getting old\n"
          ]
        }
      ]
    },
    {
      "cell_type": "code",
      "source": [
        "year=1912\n",
        "while year<=1984:\n",
        "  print(f\"the year is {year} and nobody has found titanic yet\")\n",
        "  year=year+1"
      ],
      "metadata": {
        "colab": {
          "base_uri": "https://localhost:8080/"
        },
        "id": "Wivql_y-DPwc",
        "outputId": "2b8c8b86-6030-42b3-d6e1-310145be22a2"
      },
      "execution_count": 23,
      "outputs": [
        {
          "output_type": "stream",
          "name": "stdout",
          "text": [
            "the year is 1912 and nobody has found titanic yet\n",
            "the year is 1913 and nobody has found titanic yet\n",
            "the year is 1914 and nobody has found titanic yet\n",
            "the year is 1915 and nobody has found titanic yet\n",
            "the year is 1916 and nobody has found titanic yet\n",
            "the year is 1917 and nobody has found titanic yet\n",
            "the year is 1918 and nobody has found titanic yet\n",
            "the year is 1919 and nobody has found titanic yet\n",
            "the year is 1920 and nobody has found titanic yet\n",
            "the year is 1921 and nobody has found titanic yet\n",
            "the year is 1922 and nobody has found titanic yet\n",
            "the year is 1923 and nobody has found titanic yet\n",
            "the year is 1924 and nobody has found titanic yet\n",
            "the year is 1925 and nobody has found titanic yet\n",
            "the year is 1926 and nobody has found titanic yet\n",
            "the year is 1927 and nobody has found titanic yet\n",
            "the year is 1928 and nobody has found titanic yet\n",
            "the year is 1929 and nobody has found titanic yet\n",
            "the year is 1930 and nobody has found titanic yet\n",
            "the year is 1931 and nobody has found titanic yet\n",
            "the year is 1932 and nobody has found titanic yet\n",
            "the year is 1933 and nobody has found titanic yet\n",
            "the year is 1934 and nobody has found titanic yet\n",
            "the year is 1935 and nobody has found titanic yet\n",
            "the year is 1936 and nobody has found titanic yet\n",
            "the year is 1937 and nobody has found titanic yet\n",
            "the year is 1938 and nobody has found titanic yet\n",
            "the year is 1939 and nobody has found titanic yet\n",
            "the year is 1940 and nobody has found titanic yet\n",
            "the year is 1941 and nobody has found titanic yet\n",
            "the year is 1942 and nobody has found titanic yet\n",
            "the year is 1943 and nobody has found titanic yet\n",
            "the year is 1944 and nobody has found titanic yet\n",
            "the year is 1945 and nobody has found titanic yet\n",
            "the year is 1946 and nobody has found titanic yet\n",
            "the year is 1947 and nobody has found titanic yet\n",
            "the year is 1948 and nobody has found titanic yet\n",
            "the year is 1949 and nobody has found titanic yet\n",
            "the year is 1950 and nobody has found titanic yet\n",
            "the year is 1951 and nobody has found titanic yet\n",
            "the year is 1952 and nobody has found titanic yet\n",
            "the year is 1953 and nobody has found titanic yet\n",
            "the year is 1954 and nobody has found titanic yet\n",
            "the year is 1955 and nobody has found titanic yet\n",
            "the year is 1956 and nobody has found titanic yet\n",
            "the year is 1957 and nobody has found titanic yet\n",
            "the year is 1958 and nobody has found titanic yet\n",
            "the year is 1959 and nobody has found titanic yet\n",
            "the year is 1960 and nobody has found titanic yet\n",
            "the year is 1961 and nobody has found titanic yet\n",
            "the year is 1962 and nobody has found titanic yet\n",
            "the year is 1963 and nobody has found titanic yet\n",
            "the year is 1964 and nobody has found titanic yet\n",
            "the year is 1965 and nobody has found titanic yet\n",
            "the year is 1966 and nobody has found titanic yet\n",
            "the year is 1967 and nobody has found titanic yet\n",
            "the year is 1968 and nobody has found titanic yet\n",
            "the year is 1969 and nobody has found titanic yet\n",
            "the year is 1970 and nobody has found titanic yet\n",
            "the year is 1971 and nobody has found titanic yet\n",
            "the year is 1972 and nobody has found titanic yet\n",
            "the year is 1973 and nobody has found titanic yet\n",
            "the year is 1974 and nobody has found titanic yet\n",
            "the year is 1975 and nobody has found titanic yet\n",
            "the year is 1976 and nobody has found titanic yet\n",
            "the year is 1977 and nobody has found titanic yet\n",
            "the year is 1978 and nobody has found titanic yet\n",
            "the year is 1979 and nobody has found titanic yet\n",
            "the year is 1980 and nobody has found titanic yet\n",
            "the year is 1981 and nobody has found titanic yet\n",
            "the year is 1982 and nobody has found titanic yet\n",
            "the year is 1983 and nobody has found titanic yet\n",
            "the year is 1984 and nobody has found titanic yet\n"
          ]
        }
      ]
    },
    {
      "cell_type": "markdown",
      "source": [
        "final exercise : time tracker for tasks"
      ],
      "metadata": {
        "id": "c0a08hNkLskd"
      }
    },
    {
      "cell_type": "code",
      "source": [
        "tasks = [\"planning\",\"design\",\"coding\",\"testing\"]\n",
        "time_spent = [0,0,0,0]\n",
        "def log_time(task,time):\n",
        "  for t in range(len(tasks)):\n",
        "    if tasks[t] == task:\n",
        "      time_spent[t]+=time\n",
        "\n",
        "while True:\n",
        "  print(\"Tasks: \",tasks)\n",
        "  task = input(\"Enter a task to log time or enter exit \")\n",
        "  if task == \"exit\":\n",
        "    break\n",
        "  else :\n",
        "    if task in tasks:\n",
        "      time = float(input(\"Enter time spent on task \"))\n",
        "      log_time(task,time)\n",
        "    else:\n",
        "      print(\"Invalid task\")\n",
        "\n",
        "for i in range(len(tasks)):\n",
        "  print(f\"Time spent on {tasks[i]} is {time_spent[i]:.2f} hrs\")"
      ],
      "metadata": {
        "colab": {
          "base_uri": "https://localhost:8080/"
        },
        "id": "-ov0HKQ2L0Xc",
        "outputId": "159e4390-dd0c-43f3-90cc-450f0408fb54"
      },
      "execution_count": 26,
      "outputs": [
        {
          "output_type": "stream",
          "name": "stdout",
          "text": [
            "Tasks:  ['planning', 'design', 'coding', 'testing']\n",
            "Enter a task to log time or enter exit planning\n",
            "Enter time spent on task 2\n",
            "Tasks:  ['planning', 'design', 'coding', 'testing']\n",
            "Enter a task to log time or enter exit design\n",
            "Enter time spent on task 3\n",
            "Tasks:  ['planning', 'design', 'coding', 'testing']\n",
            "Enter a task to log time or enter exit coding\n",
            "Enter time spent on task 4\n",
            "Tasks:  ['planning', 'design', 'coding', 'testing']\n",
            "Enter a task to log time or enter exit testing\n",
            "Enter time spent on task 5\n",
            "Tasks:  ['planning', 'design', 'coding', 'testing']\n",
            "Enter a task to log time or enter exit exit\n",
            "Time spent on planning is 2.00\n",
            "Time spent on design is 3.00\n",
            "Time spent on coding is 4.00\n",
            "Time spent on testing is 5.00\n"
          ]
        }
      ]
    }
  ]
}